{
 "cells": [
  {
   "cell_type": "markdown",
   "id": "e42e5c1e-e9e2-4ada-ad05-0755ffb7b833",
   "metadata": {},
   "source": [
    "In this notebook I am using both, functions that were created specifically for this task, and functions that I have created for different problems."
   ]
  },
  {
   "cell_type": "code",
   "execution_count": 63,
   "id": "8e474756-3b29-4d58-9fdd-21e3f7a39a29",
   "metadata": {},
   "outputs": [],
   "source": [
    "import pandas as pd\n",
    "import numpy as np\n",
    "import matplotlib.pyplot as plt\n",
    "from sklearn.model_selection import StratifiedKFold\n",
    "\n",
    "from sklearn.svm import SVC\n",
    "from sklearn.ensemble import RandomForestClassifier\n",
    "from sklearn.neighbors import KNeighborsClassifier\n",
    "from xgboost import XGBClassifier\n",
    "\n",
    "from sklearn.pipeline import Pipeline\n",
    "from sklearn.preprocessing import MinMaxScaler\n",
    "from sklearn.model_selection import GridSearchCV, cross_validate\n",
    "from sklearn.metrics import confusion_matrix, classification_report\n",
    "from sklearn.model_selection import learning_curve\n",
    "from sklearn.metrics import roc_curve, auc\n",
    "from sklearn.model_selection import cross_val_predict\n",
    "from sklearn import metrics\n",
    "\n",
    "from collections import Counter\n",
    "import ast\n",
    "\n",
    "random_state= 42 #perfect number"
   ]
  },
  {
   "cell_type": "markdown",
   "id": "e532d111-2d88-46d4-861f-d96db0d60436",
   "metadata": {},
   "source": [
    "# Data Loading"
   ]
  },
  {
   "cell_type": "code",
   "execution_count": 2,
   "id": "babe74dd-9d28-41e3-b9b4-a1fc0aac784c",
   "metadata": {},
   "outputs": [
    {
     "data": {
      "text/html": [
       "<div>\n",
       "<style scoped>\n",
       "    .dataframe tbody tr th:only-of-type {\n",
       "        vertical-align: middle;\n",
       "    }\n",
       "\n",
       "    .dataframe tbody tr th {\n",
       "        vertical-align: top;\n",
       "    }\n",
       "\n",
       "    .dataframe thead th {\n",
       "        text-align: right;\n",
       "    }\n",
       "</style>\n",
       "<table border=\"1\" class=\"dataframe\">\n",
       "  <thead>\n",
       "    <tr style=\"text-align: right;\">\n",
       "      <th></th>\n",
       "      <th>Country</th>\n",
       "      <th>ASN</th>\n",
       "      <th>TTL</th>\n",
       "      <th>IP</th>\n",
       "      <th>Domain</th>\n",
       "      <th>oc_8</th>\n",
       "      <th>longest_word</th>\n",
       "      <th>Domain_Name</th>\n",
       "      <th>dec_32</th>\n",
       "      <th>subdomain</th>\n",
       "      <th>...</th>\n",
       "      <th>typos</th>\n",
       "      <th>tld</th>\n",
       "      <th>shortened</th>\n",
       "      <th>Registrar</th>\n",
       "      <th>obfuscate_at_sign</th>\n",
       "      <th>Alexa_Rank</th>\n",
       "      <th>3gram</th>\n",
       "      <th>numeric_percentage</th>\n",
       "      <th>puny_coded</th>\n",
       "      <th>pred</th>\n",
       "    </tr>\n",
       "  </thead>\n",
       "  <tbody>\n",
       "    <tr>\n",
       "      <th>0</th>\n",
       "      <td>US</td>\n",
       "      <td>26347.0</td>\n",
       "      <td>14399</td>\n",
       "      <td>67.205.14.183</td>\n",
       "      <td>b'dicrophani.com.'</td>\n",
       "      <td>0</td>\n",
       "      <td>hani</td>\n",
       "      <td>DICROPHANI.COM</td>\n",
       "      <td>0</td>\n",
       "      <td>0</td>\n",
       "      <td>...</td>\n",
       "      <td>[('apple.com', 86), ('adobe.com', 86)]</td>\n",
       "      <td>com</td>\n",
       "      <td>-1.0</td>\n",
       "      <td>Name.com inc.</td>\n",
       "      <td>0</td>\n",
       "      <td>-1.0</td>\n",
       "      <td>['dic', 'icr', 'cro', 'rop', 'oph', 'pha', 'ha...</td>\n",
       "      <td>0.000000</td>\n",
       "      <td>0</td>\n",
       "      <td>1</td>\n",
       "    </tr>\n",
       "    <tr>\n",
       "      <th>1</th>\n",
       "      <td>US</td>\n",
       "      <td>46606.0</td>\n",
       "      <td>14399</td>\n",
       "      <td>70.40.220.126</td>\n",
       "      <td>b'dionneg.com.'</td>\n",
       "      <td>0</td>\n",
       "      <td>dio</td>\n",
       "      <td>DIONNEG.COM</td>\n",
       "      <td>0</td>\n",
       "      <td>0</td>\n",
       "      <td>...</td>\n",
       "      <td>[('g.co', 90), ('qq.com', 86)]</td>\n",
       "      <td>com</td>\n",
       "      <td>-1.0</td>\n",
       "      <td>FastDomain Inc.</td>\n",
       "      <td>0</td>\n",
       "      <td>-1.0</td>\n",
       "      <td>['dio', 'ion', 'onn', 'nne', 'neg']</td>\n",
       "      <td>0.000000</td>\n",
       "      <td>0</td>\n",
       "      <td>1</td>\n",
       "    </tr>\n",
       "    <tr>\n",
       "      <th>2</th>\n",
       "      <td>US</td>\n",
       "      <td>16509.0</td>\n",
       "      <td>3599</td>\n",
       "      <td>15.164.151.80</td>\n",
       "      <td>b'vipprojects.cn.'</td>\n",
       "      <td>0</td>\n",
       "      <td>projects</td>\n",
       "      <td>vipprojects.cn</td>\n",
       "      <td>0</td>\n",
       "      <td>0</td>\n",
       "      <td>...</td>\n",
       "      <td>[('4.cn', 86), ('360.cn', 86)]</td>\n",
       "      <td>cn</td>\n",
       "      <td>-1.0</td>\n",
       "      <td>杭州名商网络有限公司</td>\n",
       "      <td>0</td>\n",
       "      <td>-1.0</td>\n",
       "      <td>['vip', 'ipp', 'ppr', 'pro', 'roj', 'oje', 'je...</td>\n",
       "      <td>0.000000</td>\n",
       "      <td>0</td>\n",
       "      <td>1</td>\n",
       "    </tr>\n",
       "    <tr>\n",
       "      <th>3</th>\n",
       "      <td>US</td>\n",
       "      <td>395954.0</td>\n",
       "      <td>599</td>\n",
       "      <td>23.110.187.67</td>\n",
       "      <td>b'hhj3.cn.'</td>\n",
       "      <td>0</td>\n",
       "      <td>hh</td>\n",
       "      <td>hhj3.cn</td>\n",
       "      <td>0</td>\n",
       "      <td>0</td>\n",
       "      <td>...</td>\n",
       "      <td>[('miitbeian.gov.cn', 86), ('miibeian.gov.cn',...</td>\n",
       "      <td>cn</td>\n",
       "      <td>-1.0</td>\n",
       "      <td>成都西维数码科技有限公司</td>\n",
       "      <td>0</td>\n",
       "      <td>-1.0</td>\n",
       "      <td>['hhj', 'hj3']</td>\n",
       "      <td>11.111111</td>\n",
       "      <td>0</td>\n",
       "      <td>1</td>\n",
       "    </tr>\n",
       "    <tr>\n",
       "      <th>4</th>\n",
       "      <td>US</td>\n",
       "      <td>395954.0</td>\n",
       "      <td>599</td>\n",
       "      <td>23.110.187.67</td>\n",
       "      <td>b'hhj3.cn.'</td>\n",
       "      <td>0</td>\n",
       "      <td>hh</td>\n",
       "      <td>hhj3.cn</td>\n",
       "      <td>0</td>\n",
       "      <td>0</td>\n",
       "      <td>...</td>\n",
       "      <td>[('miitbeian.gov.cn', 86), ('miibeian.gov.cn',...</td>\n",
       "      <td>cn</td>\n",
       "      <td>-1.0</td>\n",
       "      <td>成都西维数码科技有限公司</td>\n",
       "      <td>0</td>\n",
       "      <td>-1.0</td>\n",
       "      <td>['hhj', 'hj3']</td>\n",
       "      <td>11.111111</td>\n",
       "      <td>0</td>\n",
       "      <td>1</td>\n",
       "    </tr>\n",
       "  </tbody>\n",
       "</table>\n",
       "<p>5 rows × 39 columns</p>\n",
       "</div>"
      ],
      "text/plain": [
       "  Country       ASN    TTL             IP              Domain  oc_8  \\\n",
       "0      US   26347.0  14399  67.205.14.183  b'dicrophani.com.'     0   \n",
       "1      US   46606.0  14399  70.40.220.126     b'dionneg.com.'     0   \n",
       "2      US   16509.0   3599  15.164.151.80  b'vipprojects.cn.'     0   \n",
       "3      US  395954.0    599  23.110.187.67         b'hhj3.cn.'     0   \n",
       "4      US  395954.0    599  23.110.187.67         b'hhj3.cn.'     0   \n",
       "\n",
       "  longest_word     Domain_Name  dec_32  subdomain  ...  \\\n",
       "0         hani  DICROPHANI.COM       0          0  ...   \n",
       "1          dio     DIONNEG.COM       0          0  ...   \n",
       "2     projects  vipprojects.cn       0          0  ...   \n",
       "3           hh         hhj3.cn       0          0  ...   \n",
       "4           hh         hhj3.cn       0          0  ...   \n",
       "\n",
       "                                               typos  tld  shortened  \\\n",
       "0             [('apple.com', 86), ('adobe.com', 86)]  com       -1.0   \n",
       "1                     [('g.co', 90), ('qq.com', 86)]  com       -1.0   \n",
       "2                     [('4.cn', 86), ('360.cn', 86)]   cn       -1.0   \n",
       "3  [('miitbeian.gov.cn', 86), ('miibeian.gov.cn',...   cn       -1.0   \n",
       "4  [('miitbeian.gov.cn', 86), ('miibeian.gov.cn',...   cn       -1.0   \n",
       "\n",
       "         Registrar  obfuscate_at_sign  Alexa_Rank  \\\n",
       "0    Name.com inc.                  0        -1.0   \n",
       "1  FastDomain Inc.                  0        -1.0   \n",
       "2       杭州名商网络有限公司                  0        -1.0   \n",
       "3     成都西维数码科技有限公司                  0        -1.0   \n",
       "4     成都西维数码科技有限公司                  0        -1.0   \n",
       "\n",
       "                                               3gram numeric_percentage  \\\n",
       "0  ['dic', 'icr', 'cro', 'rop', 'oph', 'pha', 'ha...           0.000000   \n",
       "1                ['dio', 'ion', 'onn', 'nne', 'neg']           0.000000   \n",
       "2  ['vip', 'ipp', 'ppr', 'pro', 'roj', 'oje', 'je...           0.000000   \n",
       "3                                     ['hhj', 'hj3']          11.111111   \n",
       "4                                     ['hhj', 'hj3']          11.111111   \n",
       "\n",
       "  puny_coded pred  \n",
       "0          0    1  \n",
       "1          0    1  \n",
       "2          0    1  \n",
       "3          0    1  \n",
       "4          0    1  \n",
       "\n",
       "[5 rows x 39 columns]"
      ]
     },
     "execution_count": 2,
     "metadata": {},
     "output_type": "execute_result"
    }
   ],
   "source": [
    "# Load the CSV file into a DataFrame\n",
    "file_path = 'CSV_malware.csv'\n",
    "df = pd.read_csv(file_path)\n",
    "df['pred'] = 1\n",
    "\n",
    "df.head()"
   ]
  },
  {
   "cell_type": "code",
   "execution_count": 3,
   "id": "883659b0-ff81-410b-9c42-bfd1b1aea70f",
   "metadata": {},
   "outputs": [
    {
     "name": "stderr",
     "output_type": "stream",
     "text": [
      "C:\\Users\\pawel\\AppData\\Local\\Temp\\ipykernel_22524\\145198118.py:3: DtypeWarning: Columns (9,10,12,13,17,18,20,21,24,25,27,28,36) have mixed types. Specify dtype option on import or set low_memory=False.\n",
      "  df2 = pd.read_csv(file_path, skip_blank_lines=False)\n"
     ]
    },
    {
     "data": {
      "text/html": [
       "<div>\n",
       "<style scoped>\n",
       "    .dataframe tbody tr th:only-of-type {\n",
       "        vertical-align: middle;\n",
       "    }\n",
       "\n",
       "    .dataframe tbody tr th {\n",
       "        vertical-align: top;\n",
       "    }\n",
       "\n",
       "    .dataframe thead th {\n",
       "        text-align: right;\n",
       "    }\n",
       "</style>\n",
       "<table border=\"1\" class=\"dataframe\">\n",
       "  <thead>\n",
       "    <tr style=\"text-align: right;\">\n",
       "      <th></th>\n",
       "      <th>Country</th>\n",
       "      <th>ASN</th>\n",
       "      <th>TTL</th>\n",
       "      <th>IP</th>\n",
       "      <th>Domain</th>\n",
       "      <th>State</th>\n",
       "      <th>Registrant_Name</th>\n",
       "      <th>Country.1</th>\n",
       "      <th>Creation_Date_Time</th>\n",
       "      <th>hex_32</th>\n",
       "      <th>...</th>\n",
       "      <th>typos</th>\n",
       "      <th>oc_8</th>\n",
       "      <th>3gram</th>\n",
       "      <th>char_distribution</th>\n",
       "      <th>2gram</th>\n",
       "      <th>Registrar</th>\n",
       "      <th>sld</th>\n",
       "      <th>Name_Server_Count</th>\n",
       "      <th>Page_Rank</th>\n",
       "      <th>pred</th>\n",
       "    </tr>\n",
       "  </thead>\n",
       "  <tbody>\n",
       "    <tr>\n",
       "      <th>0</th>\n",
       "      <td>CN</td>\n",
       "      <td>38365.0</td>\n",
       "      <td>3599</td>\n",
       "      <td>180.76.233.83</td>\n",
       "      <td>b'lxgkj.com.'</td>\n",
       "      <td>bei jing</td>\n",
       "      <td>NaN</td>\n",
       "      <td>CN</td>\n",
       "      <td>2008-05-27 02:59:35</td>\n",
       "      <td>0</td>\n",
       "      <td>...</td>\n",
       "      <td>[('qq.com', 86), ('vk.com', 86)]</td>\n",
       "      <td>0</td>\n",
       "      <td>['lxg', 'xgk', 'gkj']</td>\n",
       "      <td>defaultdict(&lt;class 'int'&gt;, {'x': 1, 'k': 1, 'j...</td>\n",
       "      <td>['lx', 'xg', 'gk', 'kj']</td>\n",
       "      <td>Xiamen 35.Com Technology Co. Ltd</td>\n",
       "      <td>lxgkj</td>\n",
       "      <td>4.0</td>\n",
       "      <td>-1.0</td>\n",
       "      <td>0</td>\n",
       "    </tr>\n",
       "    <tr>\n",
       "      <th>1</th>\n",
       "      <td>US</td>\n",
       "      <td>22612.0</td>\n",
       "      <td>1199</td>\n",
       "      <td>199.188.200.112</td>\n",
       "      <td>b'ganeshamtextilemills.in.'</td>\n",
       "      <td>NaN</td>\n",
       "      <td>NaN</td>\n",
       "      <td>NaN</td>\n",
       "      <td>2017-04-06 14:54:00</td>\n",
       "      <td>0</td>\n",
       "      <td>...</td>\n",
       "      <td>[('google.co.in', 86), ('illinois.edu', 49)]</td>\n",
       "      <td>0</td>\n",
       "      <td>['gan', 'ane', 'nes', 'esh', 'sha', 'ham', 'am...</td>\n",
       "      <td>defaultdict(&lt;class 'int'&gt;, {'e': 3, 'h': 1, 'i...</td>\n",
       "      <td>['ga', 'an', 'ne', 'es', 'sh', 'ha', 'am', 'mt...</td>\n",
       "      <td>GoDaddy.com LLC</td>\n",
       "      <td>ganeshamtextilemills</td>\n",
       "      <td>2.0</td>\n",
       "      <td>-1.0</td>\n",
       "      <td>0</td>\n",
       "    </tr>\n",
       "    <tr>\n",
       "      <th>2</th>\n",
       "      <td>US</td>\n",
       "      <td>13335.0</td>\n",
       "      <td>299</td>\n",
       "      <td>104.27.131.55</td>\n",
       "      <td>b'www.eurobahnm.com.'</td>\n",
       "      <td>Arizona</td>\n",
       "      <td>NaN</td>\n",
       "      <td>US</td>\n",
       "      <td>2009-02-24 00:18:44</td>\n",
       "      <td>0</td>\n",
       "      <td>...</td>\n",
       "      <td>0</td>\n",
       "      <td>[('qq.com', 86), ('vk.com', 86)]</td>\n",
       "      <td>0</td>\n",
       "      <td>['eur', 'uro', 'rob', 'oba', 'bah', 'ahn', 'hnm']</td>\n",
       "      <td>defaultdict(&lt;class 'int'&gt;, {'e': 1, 'u': 1, 'o...</td>\n",
       "      <td>['eu', 'ur', 'ro', 'ob', 'ba', 'ah', 'hn', 'nm']</td>\n",
       "      <td>GoDaddy.com LLC</td>\n",
       "      <td>eurobahnm</td>\n",
       "      <td>2.0</td>\n",
       "      <td>0</td>\n",
       "    </tr>\n",
       "    <tr>\n",
       "      <th>3</th>\n",
       "      <td>US</td>\n",
       "      <td>13335.0</td>\n",
       "      <td>299</td>\n",
       "      <td>104.27.135.232</td>\n",
       "      <td>b'wkm.xyz.'</td>\n",
       "      <td>NaN</td>\n",
       "      <td>NaN</td>\n",
       "      <td>NaN</td>\n",
       "      <td>NaN</td>\n",
       "      <td>0</td>\n",
       "      <td>...</td>\n",
       "      <td>[('ow.ly', 50), ('t.me', 43)]</td>\n",
       "      <td>0</td>\n",
       "      <td>['wkm']</td>\n",
       "      <td>defaultdict(&lt;class 'int'&gt;, {'m': 1, 'k': 1, 'w...</td>\n",
       "      <td>['wk', 'km']</td>\n",
       "      <td>NaN</td>\n",
       "      <td>wkm</td>\n",
       "      <td>NaN</td>\n",
       "      <td>NaN</td>\n",
       "      <td>0</td>\n",
       "    </tr>\n",
       "    <tr>\n",
       "      <th>4</th>\n",
       "      <td>GB</td>\n",
       "      <td>15510.0</td>\n",
       "      <td>14399</td>\n",
       "      <td>91.215.187.64</td>\n",
       "      <td>b'motmasters.co.uk.'</td>\n",
       "      <td>NaN</td>\n",
       "      <td>MOT Masters Ltd</td>\n",
       "      <td>NaN</td>\n",
       "      <td>2006-09-27 00:00:00</td>\n",
       "      <td>0</td>\n",
       "      <td>...</td>\n",
       "      <td>[('t.co', 86), ('bbc.co.uk', 86)]</td>\n",
       "      <td>0</td>\n",
       "      <td>['mot', 'otm', 'tma', 'mas', 'ast', 'ste', 'te...</td>\n",
       "      <td>defaultdict(&lt;class 'int'&gt;, {'t': 2, 'e': 1, 'o...</td>\n",
       "      <td>['mo', 'ot', 'tm', 'ma', 'as', 'st', 'te', 'er...</td>\n",
       "      <td>Getyouonline.co.uk Ltd t/a Websites4UKGarages....</td>\n",
       "      <td>motmasters</td>\n",
       "      <td>39.0</td>\n",
       "      <td>-1.0</td>\n",
       "      <td>0</td>\n",
       "    </tr>\n",
       "  </tbody>\n",
       "</table>\n",
       "<p>5 rows × 39 columns</p>\n",
       "</div>"
      ],
      "text/plain": [
       "  Country      ASN    TTL               IP                       Domain  \\\n",
       "0      CN  38365.0   3599    180.76.233.83                b'lxgkj.com.'   \n",
       "1      US  22612.0   1199  199.188.200.112  b'ganeshamtextilemills.in.'   \n",
       "2      US  13335.0    299    104.27.131.55        b'www.eurobahnm.com.'   \n",
       "3      US  13335.0    299   104.27.135.232                  b'wkm.xyz.'   \n",
       "4      GB  15510.0  14399    91.215.187.64         b'motmasters.co.uk.'   \n",
       "\n",
       "      State  Registrant_Name Country.1   Creation_Date_Time hex_32  ...  \\\n",
       "0  bei jing              NaN        CN  2008-05-27 02:59:35      0  ...   \n",
       "1       NaN              NaN       NaN  2017-04-06 14:54:00      0  ...   \n",
       "2   Arizona              NaN        US  2009-02-24 00:18:44      0  ...   \n",
       "3       NaN              NaN       NaN                  NaN      0  ...   \n",
       "4       NaN  MOT Masters Ltd       NaN  2006-09-27 00:00:00      0  ...   \n",
       "\n",
       "                                          typos  \\\n",
       "0              [('qq.com', 86), ('vk.com', 86)]   \n",
       "1  [('google.co.in', 86), ('illinois.edu', 49)]   \n",
       "2                                             0   \n",
       "3                 [('ow.ly', 50), ('t.me', 43)]   \n",
       "4             [('t.co', 86), ('bbc.co.uk', 86)]   \n",
       "\n",
       "                               oc_8  \\\n",
       "0                                 0   \n",
       "1                                 0   \n",
       "2  [('qq.com', 86), ('vk.com', 86)]   \n",
       "3                                 0   \n",
       "4                                 0   \n",
       "\n",
       "                                               3gram  \\\n",
       "0                              ['lxg', 'xgk', 'gkj']   \n",
       "1  ['gan', 'ane', 'nes', 'esh', 'sha', 'ham', 'am...   \n",
       "2                                                  0   \n",
       "3                                            ['wkm']   \n",
       "4  ['mot', 'otm', 'tma', 'mas', 'ast', 'ste', 'te...   \n",
       "\n",
       "                                   char_distribution  \\\n",
       "0  defaultdict(<class 'int'>, {'x': 1, 'k': 1, 'j...   \n",
       "1  defaultdict(<class 'int'>, {'e': 3, 'h': 1, 'i...   \n",
       "2  ['eur', 'uro', 'rob', 'oba', 'bah', 'ahn', 'hnm']   \n",
       "3  defaultdict(<class 'int'>, {'m': 1, 'k': 1, 'w...   \n",
       "4  defaultdict(<class 'int'>, {'t': 2, 'e': 1, 'o...   \n",
       "\n",
       "                                               2gram  \\\n",
       "0                           ['lx', 'xg', 'gk', 'kj']   \n",
       "1  ['ga', 'an', 'ne', 'es', 'sh', 'ha', 'am', 'mt...   \n",
       "2  defaultdict(<class 'int'>, {'e': 1, 'u': 1, 'o...   \n",
       "3                                       ['wk', 'km']   \n",
       "4  ['mo', 'ot', 'tm', 'ma', 'as', 'st', 'te', 'er...   \n",
       "\n",
       "                                           Registrar                   sld  \\\n",
       "0                   Xiamen 35.Com Technology Co. Ltd                 lxgkj   \n",
       "1                                    GoDaddy.com LLC  ganeshamtextilemills   \n",
       "2   ['eu', 'ur', 'ro', 'ob', 'ba', 'ah', 'hn', 'nm']       GoDaddy.com LLC   \n",
       "3                                                NaN                   wkm   \n",
       "4  Getyouonline.co.uk Ltd t/a Websites4UKGarages....            motmasters   \n",
       "\n",
       "  Name_Server_Count Page_Rank pred  \n",
       "0               4.0      -1.0    0  \n",
       "1               2.0      -1.0    0  \n",
       "2         eurobahnm       2.0    0  \n",
       "3               NaN       NaN    0  \n",
       "4              39.0      -1.0    0  \n",
       "\n",
       "[5 rows x 39 columns]"
      ]
     },
     "execution_count": 3,
     "metadata": {},
     "output_type": "execute_result"
    }
   ],
   "source": [
    "file_path = 'CSV_benign.csv'\n",
    "df2 = pd.read_csv(file_path, skip_blank_lines=False)\n",
    "# Reduce the DataFrame to 100k rows, 500k rows is way tooooo much for my machine\n",
    "df2 = df2.sample(n=100000, random_state=42).reset_index(drop=True)\n",
    "df2['pred'] = 0\n",
    "\n",
    "df2.head()"
   ]
  },
  {
   "cell_type": "code",
   "execution_count": 5,
   "id": "acabf167-ca37-49bd-a213-c8b2eb618504",
   "metadata": {},
   "outputs": [],
   "source": [
    "#Combine both\n",
    "dataset = pd.concat([df2, df])"
   ]
  },
  {
   "cell_type": "markdown",
   "id": "a280f82e-1f7a-4069-83d8-9e4616a90928",
   "metadata": {},
   "source": [
    "# Pre data processing"
   ]
  },
  {
   "cell_type": "markdown",
   "id": "da1a7e5e-594c-420f-b5da-91b6a5aa58ee",
   "metadata": {},
   "source": [
    "Because all of the features were marked as usefull in problem describtion, I won't be deleting them, only changing into numerical.\n",
    "\n",
    "I tried to perform this task as close possible to how it was done in describtion."
   ]
  },
  {
   "cell_type": "code",
   "execution_count": 6,
   "id": "a18d69fb-5745-49db-9cb5-6c1198636ced",
   "metadata": {
    "tags": []
   },
   "outputs": [],
   "source": [
    "#A lot of data shifts, so in numeric columns whenever there are different values than numeric, i will change them to NaN\n",
    "def convert_to_numeric(df, numeric_cols):\n",
    "    for col in numeric_cols:\n",
    "        df[col] = pd.to_numeric(df[col], errors='coerce')"
   ]
  },
  {
   "cell_type": "code",
   "execution_count": 7,
   "id": "144d0c35-52fd-4697-b9bd-75e3ccffea18",
   "metadata": {},
   "outputs": [],
   "source": [
    "def convert_to_list(value):\n",
    "    if isinstance(value, str):\n",
    "        try:\n",
    "            return ast.literal_eval(value)  # Attempt to evaluate the string as a Python literal expression (list)\n",
    "        except (ValueError, SyntaxError):\n",
    "            return np.nan \n",
    "    return np.nan "
   ]
  },
  {
   "cell_type": "code",
   "execution_count": 8,
   "id": "39958af6-ca8e-4b4a-bb0d-77ac1f9c3fb2",
   "metadata": {},
   "outputs": [],
   "source": [
    "#Convert to years\n",
    "def convert_to_years(domain_age_str):\n",
    "    try:\n",
    "        days_str = domain_age_str.split(' ')[0]\n",
    "        days = int(days_str)\n",
    "        years = days / 365\n",
    "        return years\n",
    "    \n",
    "    except (ValueError, AttributeError, TypeError):\n",
    "        return np.nan"
   ]
  },
  {
   "cell_type": "code",
   "execution_count": 9,
   "id": "47c14b04-5845-4291-8441-9f46aa772bd0",
   "metadata": {},
   "outputs": [],
   "source": [
    "def label_encode_column(df, column_name):\n",
    "    # I change NaNs to differnt, 0 category as it might give some information to the model also,\n",
    "    #I am not sure from where the nans are coming from\n",
    "    for column in column_name:\n",
    "        # Use factorize to encode the column\n",
    "        labels, _ = pd.factorize(df[column], use_na_sentinel=True)\n",
    "\n",
    "        # Increment the labels by 1 to make room for NaN values to be 0\n",
    "        df[column] = labels + 1\n",
    "\n",
    "        # Replace the sentinel value for NaN (which was set to -1 and then incremented to 0) to 0\n",
    "        df[column].replace(-1 + 1, 0, inplace=True)"
   ]
  },
  {
   "cell_type": "code",
   "execution_count": 10,
   "id": "972db9cc-28f1-46ee-9f57-f29237fcf0cd",
   "metadata": {},
   "outputs": [],
   "source": [
    "def select_one_domain(domain):\n",
    "    if isinstance(domain, list):\n",
    "        return domain[0].lower() if domain else None  # Picks the first domain if list is not empty\n",
    "    elif isinstance(domain, str):\n",
    "        return domain.lower()\n",
    "    else:\n",
    "        return domain\n",
    "\n",
    "dataset['Domain_Name'] = dataset['Domain_Name'].apply(select_one_domain)"
   ]
  },
  {
   "cell_type": "code",
   "execution_count": 11,
   "id": "d146ced3-12ce-4653-96c1-26e66a2ece33",
   "metadata": {},
   "outputs": [],
   "source": [
    "#calc averege of frequency for n-grams\n",
    "def average_frequency(ngram_list, freq_dict):\n",
    "    if not isinstance(ngram_list, list):\n",
    "        return np.nan \n",
    "    total_freq = 0\n",
    "    count = 0\n",
    "    for ngram in ngram_list:\n",
    "        if not isinstance(ngram, str):  # Ignore non-string 1-grams\n",
    "            continue\n",
    "        total_freq += freq_dict.get(ngram, 0)  # Get frequency from dictionary\n",
    "        count += 1\n",
    "    return total_freq / count if count > 0 else np.nan  # Compute average"
   ]
  },
  {
   "cell_type": "code",
   "execution_count": 12,
   "id": "41c4d547-feb1-47a5-a9c5-2f418202588b",
   "metadata": {},
   "outputs": [
    {
     "data": {
      "text/plain": [
       "Country                22978\n",
       "ASN                    22966\n",
       "TTL                        0\n",
       "IP                     22694\n",
       "Domain                     0\n",
       "State                  58467\n",
       "Registrant_Name       102136\n",
       "Country.1              50848\n",
       "Creation_Date_Time     28060\n",
       "hex_32                    21\n",
       "hex_8                      0\n",
       "Domain_Name            20831\n",
       "Alexa_Rank             11712\n",
       "subdomain                  4\n",
       "Organization           61835\n",
       "len                       68\n",
       "longest_word              28\n",
       "oc_32                      3\n",
       "shortened                333\n",
       "1gram                      1\n",
       "obfuscate_at_sign          0\n",
       "entropy                    1\n",
       "Domain_Age             11711\n",
       "tld                        1\n",
       "dec_8                      3\n",
       "dec_32                    23\n",
       "Emails                 36314\n",
       "numeric_percentage       162\n",
       "puny_coded                 0\n",
       "typos                      0\n",
       "oc_8                       0\n",
       "3gram                      0\n",
       "char_distribution          0\n",
       "2gram                     42\n",
       "Registrar              29818\n",
       "sld                      289\n",
       "Name_Server_Count      11720\n",
       "Page_Rank              11829\n",
       "pred                       0\n",
       "dtype: int64"
      ]
     },
     "execution_count": 12,
     "metadata": {},
     "output_type": "execute_result"
    }
   ],
   "source": [
    "#How many inicial NaN values\n",
    "dataset.isna().sum()"
   ]
  },
  {
   "cell_type": "code",
   "execution_count": 13,
   "id": "058dce0a-3f64-4a8c-bc2b-40f34805cd8a",
   "metadata": {},
   "outputs": [
    {
     "data": {
      "text/plain": [
       "Index(['Country', 'ASN', 'TTL', 'IP', 'Domain', 'State', 'Registrant_Name',\n",
       "       'Country.1', 'Creation_Date_Time', 'hex_32', 'hex_8', 'Domain_Name',\n",
       "       'Alexa_Rank', 'subdomain', 'Organization', 'len', 'longest_word',\n",
       "       'oc_32', 'shortened', '1gram', 'obfuscate_at_sign', 'entropy',\n",
       "       'Domain_Age', 'tld', 'dec_8', 'dec_32', 'Emails', 'numeric_percentage',\n",
       "       'puny_coded', 'typos', 'oc_8', '3gram', 'char_distribution', '2gram',\n",
       "       'Registrar', 'sld', 'Name_Server_Count', 'Page_Rank', 'pred'],\n",
       "      dtype='object')"
      ]
     },
     "execution_count": 13,
     "metadata": {},
     "output_type": "execute_result"
    }
   ],
   "source": [
    "dataset.columns"
   ]
  },
  {
   "cell_type": "code",
   "execution_count": 14,
   "id": "1e4b300a-f31f-440e-bb18-da37e472270d",
   "metadata": {},
   "outputs": [],
   "source": [
    "#Change those columns to be ONLY numeric\n",
    "numeric_columns = ['ASN', 'TTL', 'Alexa_Rank', 'subdomain', 'len', 'shortened', 'obfuscate_at_sign', 'entropy', 'numeric_percentage', 'puny_coded', 'Name_Server_Count', 'Page_Rank']\n",
    "convert_to_numeric(dataset, numeric_columns)"
   ]
  },
  {
   "cell_type": "code",
   "execution_count": 15,
   "id": "9f4af11a-1053-484b-92eb-46994b350ecf",
   "metadata": {},
   "outputs": [],
   "source": [
    "#Change those columns from categorical to continuous values\n",
    "label_encode_column(dataset, [\"Country\", \"IP\", \"Domain\", \"State\", \"Registrant_Name\", \"Country.1\", \"Domain_Name\", \"Organization\", 'longest_word', 'tld', 'Emails', 'typos', 'Registrar', 'sld'])"
   ]
  },
  {
   "cell_type": "code",
   "execution_count": 16,
   "id": "1b0586a5-12d4-491b-82f8-8a40d4f64506",
   "metadata": {},
   "outputs": [],
   "source": [
    "#Calculate seconds\n",
    "dataset['Creation_Date_Time'] = pd.to_datetime(dataset['Creation_Date_Time'], errors='coerce')\n",
    "dataset['Creation_Date_Time'] = (dataset['Creation_Date_Time'] - pd.Timestamp(\"1970-01-01\")) // pd.Timedelta('1s')"
   ]
  },
  {
   "cell_type": "code",
   "execution_count": 17,
   "id": "baed2b0d-1b88-4c02-b148-425b70503b13",
   "metadata": {},
   "outputs": [],
   "source": [
    "#Convert to years\n",
    "dataset[\"Domain_Age\"] = [convert_to_years(value) for value in dataset[\"Domain_Age\"]]"
   ]
  },
  {
   "cell_type": "code",
   "execution_count": 18,
   "id": "48891a8a-e103-4b36-a072-4be0413fb768",
   "metadata": {},
   "outputs": [],
   "source": [
    "#grams to lists\n",
    "dataset[\"1gram\"] = [convert_to_list(value) for value in dataset[\"1gram\"]]\n",
    "dataset[\"2gram\"] = [convert_to_list(value) for value in dataset[\"2gram\"]]\n",
    "dataset[\"3gram\"] = [convert_to_list(value) for value in dataset[\"3gram\"]]"
   ]
  },
  {
   "cell_type": "code",
   "execution_count": 19,
   "id": "e6ac4cf5-fdcb-419c-94d0-d893730688c6",
   "metadata": {},
   "outputs": [],
   "source": [
    "#handling n-grams\n",
    "#calc freq of all n-grams\n",
    "def calc_freq(df, col_name):\n",
    "    flattened_grams = [gram for sublist in df[f\"{col_name}\"] if isinstance(sublist, list) for gram in sublist if isinstance(gram, str)]\n",
    "    frequency_counter = Counter(flattened_grams)\n",
    "    frequency_dict = dict(frequency_counter)\n",
    "    return frequency_dict\n",
    "\n",
    "freq1 = calc_freq(dataset, \"1gram\")\n",
    "freq2 = calc_freq(dataset, \"2gram\")\n",
    "freq3 = calc_freq(dataset, \"3gram\")\n",
    "#calculate average of earlier calculated frequency for every n-gram\n",
    "dataset[\"1gram\"] = dataset[\"1gram\"].apply(lambda x: average_frequency(x, freq1))\n",
    "dataset[\"2gram\"] = dataset[\"2gram\"].apply(lambda x: average_frequency(x, freq2))\n",
    "dataset[\"3gram\"] = dataset[\"3gram\"].apply(lambda x: average_frequency(x, freq3))"
   ]
  },
  {
   "cell_type": "code",
   "execution_count": 20,
   "id": "824e2825-0d23-4b16-b9bb-91e2604fb969",
   "metadata": {},
   "outputs": [],
   "source": [
    "obfuscation = ['hex_8', 'hex_32', 'oc_32', 'dec_8', 'dec_32', 'oc_8']\n",
    "convert_to_numeric(dataset, obfuscation)"
   ]
  },
  {
   "cell_type": "code",
   "execution_count": 21,
   "id": "3c59c4bb-395d-4adb-9cdd-440de555b42e",
   "metadata": {},
   "outputs": [
    {
     "name": "stdout",
     "output_type": "stream",
     "text": [
      "hex_8: [ 0. nan]\n",
      "hex_32: [ 0. nan  1.]\n",
      "oc_32: [ 0. nan -1.  1.  3.  9.  5.  2.]\n",
      "dec_8: [ 0. nan]\n",
      "dec_32: [ 0.  1. nan]\n",
      "oc_8: [ 0. nan]\n"
     ]
    }
   ],
   "source": [
    "for col in obfuscation:\n",
    "    print(f\"{col}: {dataset[col].unique()}\")"
   ]
  },
  {
   "cell_type": "code",
   "execution_count": 22,
   "id": "ed7c8f17-6708-4e50-9c84-5380803f89ea",
   "metadata": {},
   "outputs": [],
   "source": [
    "#deal with different values than bollean\n",
    "def filter_bool_and_nan(df, columns):\n",
    "    for col in columns:\n",
    "        df[col] = df[col].apply(lambda x: int(1) if x == 1.0 else int(0) if x == 0.0 else np.nan if pd.isna(x) else np.nan)\n",
    "\n",
    "filter_bool_and_nan(dataset, obfuscation)"
   ]
  },
  {
   "cell_type": "code",
   "execution_count": 23,
   "id": "f2b8fe04-f4c9-49ce-a5cc-3e0e6aa9cb4d",
   "metadata": {},
   "outputs": [
    {
     "name": "stdout",
     "output_type": "stream",
     "text": [
      "hex_8: [ 0. nan]\n",
      "hex_32: [ 0. nan  1.]\n",
      "oc_32: [ 0. nan  1.]\n",
      "dec_8: [ 0. nan]\n",
      "dec_32: [ 0.  1. nan]\n",
      "oc_8: [ 0. nan]\n"
     ]
    }
   ],
   "source": [
    "for col in obfuscation:\n",
    "    print(f\"{col}: {dataset[col].unique()}\")"
   ]
  },
  {
   "cell_type": "code",
   "execution_count": 24,
   "id": "f3b054b1-0a4f-4ad4-a01f-1dfddd47c117",
   "metadata": {},
   "outputs": [],
   "source": [
    "#Combine into one\n",
    "dataset['obfuscation'] = dataset[['hex_8', 'hex_32', 'oc_32', 'dec_8', 'dec_32', 'oc_8']].max(axis=1)"
   ]
  },
  {
   "cell_type": "code",
   "execution_count": 25,
   "id": "7bbf476d-ddf6-4f96-89ab-a085f785232f",
   "metadata": {},
   "outputs": [],
   "source": [
    "dataset.drop(columns=['char_distribution', 'hex_8', 'hex_32', 'oc_32', 'dec_8', 'dec_32', 'oc_8'], inplace = True)\n",
    "# char_distribution already in 1gram, which i calculated\n",
    "# rest is combined into obfuscation column"
   ]
  },
  {
   "cell_type": "code",
   "execution_count": 26,
   "id": "4e2d178a-243e-4c63-85e3-1236c26e7d35",
   "metadata": {},
   "outputs": [],
   "source": [
    "#replace all NaN values\n",
    "dataset.fillna(0, inplace=True)"
   ]
  },
  {
   "cell_type": "code",
   "execution_count": 27,
   "id": "b79dcbaf-6369-48ff-b5ff-18a7a7558d8a",
   "metadata": {},
   "outputs": [
    {
     "data": {
      "text/plain": [
       "Country               0\n",
       "ASN                   0\n",
       "TTL                   0\n",
       "IP                    0\n",
       "Domain                0\n",
       "State                 0\n",
       "Registrant_Name       0\n",
       "Country.1             0\n",
       "Creation_Date_Time    0\n",
       "Domain_Name           0\n",
       "Alexa_Rank            0\n",
       "subdomain             0\n",
       "Organization          0\n",
       "len                   0\n",
       "longest_word          0\n",
       "shortened             0\n",
       "1gram                 0\n",
       "obfuscate_at_sign     0\n",
       "entropy               0\n",
       "Domain_Age            0\n",
       "tld                   0\n",
       "Emails                0\n",
       "numeric_percentage    0\n",
       "puny_coded            0\n",
       "typos                 0\n",
       "3gram                 0\n",
       "2gram                 0\n",
       "Registrar             0\n",
       "sld                   0\n",
       "Name_Server_Count     0\n",
       "Page_Rank             0\n",
       "pred                  0\n",
       "obfuscation           0\n",
       "dtype: int64"
      ]
     },
     "execution_count": 27,
     "metadata": {},
     "output_type": "execute_result"
    }
   ],
   "source": [
    "dataset.isna().sum()"
   ]
  },
  {
   "cell_type": "code",
   "execution_count": 28,
   "id": "260d0c7a-1015-4642-b53a-d25095fe4388",
   "metadata": {},
   "outputs": [
    {
     "name": "stdout",
     "output_type": "stream",
     "text": [
      "<class 'pandas.core.frame.DataFrame'>\n",
      "Int64Index: 104999 entries, 0 to 4998\n",
      "Data columns (total 33 columns):\n",
      " #   Column              Non-Null Count   Dtype  \n",
      "---  ------              --------------   -----  \n",
      " 0   Country             104999 non-null  int64  \n",
      " 1   ASN                 104999 non-null  float64\n",
      " 2   TTL                 104999 non-null  float64\n",
      " 3   IP                  104999 non-null  int64  \n",
      " 4   Domain              104999 non-null  int64  \n",
      " 5   State               104999 non-null  int64  \n",
      " 6   Registrant_Name     104999 non-null  int64  \n",
      " 7   Country.1           104999 non-null  int64  \n",
      " 8   Creation_Date_Time  104999 non-null  float64\n",
      " 9   Domain_Name         104999 non-null  int64  \n",
      " 10  Alexa_Rank          104999 non-null  float64\n",
      " 11  subdomain           104999 non-null  float64\n",
      " 12  Organization        104999 non-null  int64  \n",
      " 13  len                 104999 non-null  float64\n",
      " 14  longest_word        104999 non-null  int64  \n",
      " 15  shortened           104999 non-null  float64\n",
      " 16  1gram               104999 non-null  float64\n",
      " 17  obfuscate_at_sign   104999 non-null  float64\n",
      " 18  entropy             104999 non-null  float64\n",
      " 19  Domain_Age          104999 non-null  float64\n",
      " 20  tld                 104999 non-null  int64  \n",
      " 21  Emails              104999 non-null  int64  \n",
      " 22  numeric_percentage  104999 non-null  float64\n",
      " 23  puny_coded          104999 non-null  float64\n",
      " 24  typos               104999 non-null  int64  \n",
      " 25  3gram               104999 non-null  float64\n",
      " 26  2gram               104999 non-null  float64\n",
      " 27  Registrar           104999 non-null  int64  \n",
      " 28  sld                 104999 non-null  int64  \n",
      " 29  Name_Server_Count   104999 non-null  float64\n",
      " 30  Page_Rank           104999 non-null  float64\n",
      " 31  pred                104999 non-null  int64  \n",
      " 32  obfuscation         104999 non-null  float64\n",
      "dtypes: float64(18), int64(15)\n",
      "memory usage: 27.2 MB\n"
     ]
    }
   ],
   "source": [
    "dataset.info()"
   ]
  },
  {
   "cell_type": "code",
   "execution_count": 29,
   "id": "5634f0a0-03e8-41d9-a289-69f69ee4536d",
   "metadata": {},
   "outputs": [
    {
     "data": {
      "text/html": [
       "<div>\n",
       "<style scoped>\n",
       "    .dataframe tbody tr th:only-of-type {\n",
       "        vertical-align: middle;\n",
       "    }\n",
       "\n",
       "    .dataframe tbody tr th {\n",
       "        vertical-align: top;\n",
       "    }\n",
       "\n",
       "    .dataframe thead th {\n",
       "        text-align: right;\n",
       "    }\n",
       "</style>\n",
       "<table border=\"1\" class=\"dataframe\">\n",
       "  <thead>\n",
       "    <tr style=\"text-align: right;\">\n",
       "      <th></th>\n",
       "      <th>Country</th>\n",
       "      <th>ASN</th>\n",
       "      <th>TTL</th>\n",
       "      <th>IP</th>\n",
       "      <th>Domain</th>\n",
       "      <th>State</th>\n",
       "      <th>Registrant_Name</th>\n",
       "      <th>Country.1</th>\n",
       "      <th>Creation_Date_Time</th>\n",
       "      <th>Domain_Name</th>\n",
       "      <th>...</th>\n",
       "      <th>puny_coded</th>\n",
       "      <th>typos</th>\n",
       "      <th>3gram</th>\n",
       "      <th>2gram</th>\n",
       "      <th>Registrar</th>\n",
       "      <th>sld</th>\n",
       "      <th>Name_Server_Count</th>\n",
       "      <th>Page_Rank</th>\n",
       "      <th>pred</th>\n",
       "      <th>obfuscation</th>\n",
       "    </tr>\n",
       "  </thead>\n",
       "  <tbody>\n",
       "    <tr>\n",
       "      <th>0</th>\n",
       "      <td>1</td>\n",
       "      <td>38365.0</td>\n",
       "      <td>3599.0</td>\n",
       "      <td>1</td>\n",
       "      <td>1</td>\n",
       "      <td>1</td>\n",
       "      <td>0</td>\n",
       "      <td>1</td>\n",
       "      <td>1.211857e+09</td>\n",
       "      <td>1</td>\n",
       "      <td>...</td>\n",
       "      <td>0.0</td>\n",
       "      <td>1</td>\n",
       "      <td>1.666667</td>\n",
       "      <td>84.000000</td>\n",
       "      <td>1</td>\n",
       "      <td>1</td>\n",
       "      <td>4.0</td>\n",
       "      <td>-1.0</td>\n",
       "      <td>0</td>\n",
       "      <td>0.0</td>\n",
       "    </tr>\n",
       "    <tr>\n",
       "      <th>1</th>\n",
       "      <td>2</td>\n",
       "      <td>22612.0</td>\n",
       "      <td>1199.0</td>\n",
       "      <td>2</td>\n",
       "      <td>2</td>\n",
       "      <td>0</td>\n",
       "      <td>0</td>\n",
       "      <td>0</td>\n",
       "      <td>1.491490e+09</td>\n",
       "      <td>2</td>\n",
       "      <td>...</td>\n",
       "      <td>0.0</td>\n",
       "      <td>2</td>\n",
       "      <td>333.500000</td>\n",
       "      <td>4755.526316</td>\n",
       "      <td>2</td>\n",
       "      <td>2</td>\n",
       "      <td>2.0</td>\n",
       "      <td>-1.0</td>\n",
       "      <td>0</td>\n",
       "      <td>0.0</td>\n",
       "    </tr>\n",
       "    <tr>\n",
       "      <th>2</th>\n",
       "      <td>2</td>\n",
       "      <td>13335.0</td>\n",
       "      <td>299.0</td>\n",
       "      <td>3</td>\n",
       "      <td>3</td>\n",
       "      <td>2</td>\n",
       "      <td>0</td>\n",
       "      <td>2</td>\n",
       "      <td>1.235435e+09</td>\n",
       "      <td>3</td>\n",
       "      <td>...</td>\n",
       "      <td>0.0</td>\n",
       "      <td>3</td>\n",
       "      <td>0.000000</td>\n",
       "      <td>0.000000</td>\n",
       "      <td>3</td>\n",
       "      <td>3</td>\n",
       "      <td>0.0</td>\n",
       "      <td>2.0</td>\n",
       "      <td>0</td>\n",
       "      <td>0.0</td>\n",
       "    </tr>\n",
       "    <tr>\n",
       "      <th>3</th>\n",
       "      <td>2</td>\n",
       "      <td>13335.0</td>\n",
       "      <td>299.0</td>\n",
       "      <td>4</td>\n",
       "      <td>4</td>\n",
       "      <td>0</td>\n",
       "      <td>0</td>\n",
       "      <td>0</td>\n",
       "      <td>0.000000e+00</td>\n",
       "      <td>0</td>\n",
       "      <td>...</td>\n",
       "      <td>0.0</td>\n",
       "      <td>4</td>\n",
       "      <td>3.000000</td>\n",
       "      <td>157.000000</td>\n",
       "      <td>0</td>\n",
       "      <td>4</td>\n",
       "      <td>0.0</td>\n",
       "      <td>0.0</td>\n",
       "      <td>0</td>\n",
       "      <td>0.0</td>\n",
       "    </tr>\n",
       "    <tr>\n",
       "      <th>4</th>\n",
       "      <td>3</td>\n",
       "      <td>15510.0</td>\n",
       "      <td>14399.0</td>\n",
       "      <td>5</td>\n",
       "      <td>5</td>\n",
       "      <td>0</td>\n",
       "      <td>1</td>\n",
       "      <td>0</td>\n",
       "      <td>1.159315e+09</td>\n",
       "      <td>4</td>\n",
       "      <td>...</td>\n",
       "      <td>0.0</td>\n",
       "      <td>5</td>\n",
       "      <td>983.875000</td>\n",
       "      <td>6163.888889</td>\n",
       "      <td>4</td>\n",
       "      <td>5</td>\n",
       "      <td>39.0</td>\n",
       "      <td>-1.0</td>\n",
       "      <td>0</td>\n",
       "      <td>0.0</td>\n",
       "    </tr>\n",
       "  </tbody>\n",
       "</table>\n",
       "<p>5 rows × 33 columns</p>\n",
       "</div>"
      ],
      "text/plain": [
       "   Country      ASN      TTL  IP  Domain  State  Registrant_Name  Country.1  \\\n",
       "0        1  38365.0   3599.0   1       1      1                0          1   \n",
       "1        2  22612.0   1199.0   2       2      0                0          0   \n",
       "2        2  13335.0    299.0   3       3      2                0          2   \n",
       "3        2  13335.0    299.0   4       4      0                0          0   \n",
       "4        3  15510.0  14399.0   5       5      0                1          0   \n",
       "\n",
       "   Creation_Date_Time  Domain_Name  ...  puny_coded  typos       3gram  \\\n",
       "0        1.211857e+09            1  ...         0.0      1    1.666667   \n",
       "1        1.491490e+09            2  ...         0.0      2  333.500000   \n",
       "2        1.235435e+09            3  ...         0.0      3    0.000000   \n",
       "3        0.000000e+00            0  ...         0.0      4    3.000000   \n",
       "4        1.159315e+09            4  ...         0.0      5  983.875000   \n",
       "\n",
       "         2gram  Registrar  sld  Name_Server_Count  Page_Rank  pred  \\\n",
       "0    84.000000          1    1                4.0       -1.0     0   \n",
       "1  4755.526316          2    2                2.0       -1.0     0   \n",
       "2     0.000000          3    3                0.0        2.0     0   \n",
       "3   157.000000          0    4                0.0        0.0     0   \n",
       "4  6163.888889          4    5               39.0       -1.0     0   \n",
       "\n",
       "   obfuscation  \n",
       "0          0.0  \n",
       "1          0.0  \n",
       "2          0.0  \n",
       "3          0.0  \n",
       "4          0.0  \n",
       "\n",
       "[5 rows x 33 columns]"
      ]
     },
     "execution_count": 29,
     "metadata": {},
     "output_type": "execute_result"
    }
   ],
   "source": [
    "dataset.head()"
   ]
  },
  {
   "cell_type": "markdown",
   "id": "f4ee9ec7-dccd-46f5-be61-73933570ff34",
   "metadata": {},
   "source": [
    "## Split data"
   ]
  },
  {
   "cell_type": "code",
   "execution_count": 30,
   "id": "360708d5-bfd7-4190-82a4-338d6d50c6d6",
   "metadata": {},
   "outputs": [],
   "source": [
    "#preparnig some small test data\n",
    "test_1 = dataset[dataset['pred'] == 1].sample(n=50, random_state=random_state)\n",
    "test_0 = dataset[dataset['pred'] == 0].sample(n=50, random_state=random_state)"
   ]
  },
  {
   "cell_type": "code",
   "execution_count": 31,
   "id": "3dff268a-52a3-4738-97d8-a48825611e75",
   "metadata": {},
   "outputs": [],
   "source": [
    "dataset.drop(test_0.index, inplace = True)"
   ]
  },
  {
   "cell_type": "code",
   "execution_count": 32,
   "id": "f356b914-0aa5-48f0-8048-b458450c04fc",
   "metadata": {},
   "outputs": [],
   "source": [
    "dataset.drop(test_1.index, inplace = True)"
   ]
  },
  {
   "cell_type": "markdown",
   "id": "be301a20-a9ff-4584-9dc7-4be11505146f",
   "metadata": {},
   "source": [
    "### train split"
   ]
  },
  {
   "cell_type": "code",
   "execution_count": 33,
   "id": "9e715ef2-f2a0-4122-8640-01421533d93f",
   "metadata": {},
   "outputs": [
    {
     "name": "stderr",
     "output_type": "stream",
     "text": [
      "C:\\Users\\pawel\\AppData\\Local\\Temp\\ipykernel_22524\\3267320787.py:2: FutureWarning: In a future version of pandas all arguments of DataFrame.drop except for the argument 'labels' will be keyword-only.\n",
      "  X = dataset.drop('pred', 1)\n"
     ]
    }
   ],
   "source": [
    "y = dataset['pred']\n",
    "X = dataset.drop('pred', 1)"
   ]
  },
  {
   "cell_type": "code",
   "execution_count": 34,
   "id": "4b732e8b-69ba-44c8-b949-69655c331c25",
   "metadata": {},
   "outputs": [],
   "source": [
    "# stratified 5 fold with shuffle\n",
    "stratified_kfold = StratifiedKFold(n_splits=5, shuffle=True, random_state=random_state)"
   ]
  },
  {
   "cell_type": "markdown",
   "id": "96b2e025-ca12-474c-9b5b-dc475772efac",
   "metadata": {},
   "source": [
    "# Model Building"
   ]
  },
  {
   "cell_type": "code",
   "execution_count": 80,
   "id": "9428f341-1abd-4138-9848-32a49027dc58",
   "metadata": {},
   "outputs": [],
   "source": [
    "#functions were made by me from other projects"
   ]
  },
  {
   "cell_type": "code",
   "execution_count": 35,
   "id": "ffbb86fc-73de-4d2e-b5d1-c4fdfc912238",
   "metadata": {},
   "outputs": [],
   "source": [
    "def plot_learning_curve(estimator,\n",
    "                        X,\n",
    "                        y,\n",
    "                        ax,\n",
    "                        cv=None,\n",
    "                        train_sizes=np.linspace(0.1, 1.0, 5)):\n",
    "    \n",
    "    train_sizes, train_scores, test_scores = learning_curve(\n",
    "        estimator,\n",
    "        X,\n",
    "        y,\n",
    "        cv=cv,\n",
    "        n_jobs=-1,\n",
    "        train_sizes=train_sizes,\n",
    "        scoring='accuracy')\n",
    "\n",
    "    train_scores_mean = np.mean(train_scores, axis=1)\n",
    "    train_scores_std = np.std(train_scores, axis=1)\n",
    "    test_scores_mean = np.mean(test_scores, axis=1)\n",
    "    test_scores_std = np.std(test_scores, axis=1)\n",
    "\n",
    "    ax.fill_between(train_sizes,\n",
    "                    train_scores_mean - train_scores_std,\n",
    "                    train_scores_mean + train_scores_std,\n",
    "                    alpha=0.1,\n",
    "                    color='dodgerblue')\n",
    "    ax.fill_between(train_sizes,\n",
    "                    test_scores_mean - test_scores_std,\n",
    "                    test_scores_mean + test_scores_std,\n",
    "                    alpha=0.1,\n",
    "                    color='darkorange')\n",
    "\n",
    "    ax.plot(train_sizes,\n",
    "            train_scores_mean,\n",
    "            color='dodgerblue',\n",
    "            marker='o',\n",
    "            linestyle='-',\n",
    "            label='Training Score')\n",
    "    ax.plot(train_sizes,\n",
    "            test_scores_mean,\n",
    "            color='darkorange',\n",
    "            marker='o',\n",
    "            linestyle='-',\n",
    "            label='Cross-validation Score')\n",
    "\n",
    "    ax.set_xlabel('Training Examples')\n",
    "    ax.set_ylabel('Score')\n",
    "    ax.set_title('Learning Curve')\n",
    "    ax.legend(loc='best', fontsize=14);"
   ]
  },
  {
   "cell_type": "code",
   "execution_count": 38,
   "id": "6ba2f5bf-925c-4bd6-a393-7d7360e9987d",
   "metadata": {},
   "outputs": [],
   "source": [
    "def score_and_plot(model, X, y, cv):\n",
    "    print(f\"accuracy: {np.round(model.best_score_, 3)}\\n\"\n",
    "      f\"precision +/-: {np.mean(model.cv_results_['mean_test_precision'])}\\n\"\n",
    "      f\"recall +/-: {np.mean(model.cv_results_['mean_test_recall'])}\\n\"\n",
    "      f\"f1-score +/-: {np.mean(model.cv_results_['mean_test_f1'])}\\n\")\n",
    "#      f\"possible only 1's: {np.mean(np.mean(model.cv_results_['split0_test_precision']) + np.mean(model.cv_results_['split1_test_precision']) + np.mean(model.cv_results_['split2_test_precision']) + np.mean(model.cv_results_['split3_test_precision']) + np.mean(model.cv_results_['split4_test_precision']))}\")\n",
    "    \n",
    "    fig, ax1 = plt.subplots(1, figsize=(5, 3))\n",
    "    plot_learning_curve(model.best_estimator_, X, y, ax = ax1, cv = cv)"
   ]
  },
  {
   "cell_type": "markdown",
   "id": "0c3b540b-0837-4a82-acb7-c8c6037fd4c5",
   "metadata": {},
   "source": [
    "## SVC"
   ]
  },
  {
   "cell_type": "code",
   "execution_count": 39,
   "id": "c3b8a0eb-c0d5-494e-818a-b3fe075a053a",
   "metadata": {},
   "outputs": [],
   "source": [
    "svc = SVC(probability=True, random_state=random_state)\n",
    "\n",
    "param_grid = [{'clf__kernel': ['rbf'],\n",
    "              'clf__C': [1]},\n",
    "            ]\n",
    "\n",
    "#pipeline that will scale data\n",
    "pipe_svc = Pipeline([\n",
    "        ('scale', MinMaxScaler()),\n",
    "        ('clf', svc)])"
   ]
  },
  {
   "cell_type": "code",
   "execution_count": 40,
   "id": "bafe804a-7086-45b0-9039-0d62d0444b85",
   "metadata": {},
   "outputs": [
    {
     "data": {
      "text/plain": [
       "{'clf__C': 1, 'clf__kernel': 'rbf'}"
      ]
     },
     "execution_count": 40,
     "metadata": {},
     "output_type": "execute_result"
    }
   ],
   "source": [
    "svc_clf = GridSearchCV(pipe_svc, cv=stratified_kfold,\n",
    "                        param_grid=param_grid, scoring=[\"accuracy\", \"precision\", \"recall\", \"f1\"],\n",
    "                      refit = \"accuracy\",\n",
    "                      n_jobs=-1, verbose = 0)\n",
    "\n",
    "#train\n",
    "best_svc = svc_clf.fit(X, y)\n",
    "best_svc.best_params_"
   ]
  },
  {
   "cell_type": "markdown",
   "id": "a989dd46-4250-4ed1-8673-be129f54cfa0",
   "metadata": {},
   "source": [
    "### results"
   ]
  },
  {
   "cell_type": "code",
   "execution_count": 41,
   "id": "2d6febcf-a2f0-477a-b03f-91e740eb976c",
   "metadata": {},
   "outputs": [
    {
     "name": "stdout",
     "output_type": "stream",
     "text": [
      "accuracy: 0.991\n",
      "precision +/-: 0.933259517594563\n",
      "recall +/-: 0.8827098078867543\n",
      "f1-score +/-: 0.9072630836847899\n",
      "\n"
     ]
    },
    {
     "data": {
      "image/png": "[encoded data removed]",
      "text/plain": [
       "<Figure size 500x300 with 1 Axes>"
      ]
     },
     "metadata": {},
     "output_type": "display_data"
    }
   ],
   "source": [
    "score_and_plot(best_svc, X, y, stratified_kfold)"
   ]
  },
  {
   "cell_type": "markdown",
   "id": "035f0ee8-65ea-44ea-a3a0-5f376291cbc1",
   "metadata": {},
   "source": [
    "## KNN"
   ]
  },
  {
   "cell_type": "code",
   "execution_count": 44,
   "id": "ac1bf90d-b9eb-4b30-8e8e-1ce89be035a3",
   "metadata": {},
   "outputs": [
    {
     "name": "stdout",
     "output_type": "stream",
     "text": [
      "Fitting 5 folds for each of 8 candidates, totalling 40 fits\n"
     ]
    },
    {
     "data": {
      "text/plain": [
       "{'clf__n_neighbors': 6, 'clf__weights': 'distance'}"
      ]
     },
     "execution_count": 44,
     "metadata": {},
     "output_type": "execute_result"
    }
   ],
   "source": [
    "knn = KNeighborsClassifier()\n",
    "\n",
    "param_grid = {'clf__n_neighbors': [3, 4, 5, 6],\n",
    "             'clf__weights': ['uniform', 'distance']}\n",
    "\n",
    "pipe_knn = Pipeline([\n",
    "        ('scale', MinMaxScaler()),\n",
    "        ('clf', knn)])\n",
    "\n",
    "knn_clf = GridSearchCV(pipe_knn, cv=stratified_kfold,\n",
    "                        param_grid=param_grid, scoring=[\"accuracy\", \"precision\", \"recall\", \"f1\"],\n",
    "                      refit = \"accuracy\", return_train_score= True,\n",
    "                      n_jobs=-1, verbose = 2)\n",
    "\n",
    "best_knn = knn_clf.fit(X, y)\n",
    "best_knn.best_params_"
   ]
  },
  {
   "cell_type": "markdown",
   "id": "d1f64091-4269-4ca5-bfde-6dfc5857da94",
   "metadata": {},
   "source": [
    "### results"
   ]
  },
  {
   "cell_type": "code",
   "execution_count": 45,
   "id": "f4d7b74a-ed29-4a5e-9089-8f32f8e1f073",
   "metadata": {},
   "outputs": [
    {
     "name": "stdout",
     "output_type": "stream",
     "text": [
      "accuracy: 0.986\n",
      "precision +/-: 0.8642254715959619\n",
      "recall +/-: 0.7840242669362993\n",
      "f1-score +/-: 0.8208894063260763\n",
      "\n"
     ]
    },
    {
     "data": {
      "image/png": "[encoded data removed]",
      "text/plain": [
       "<Figure size 500x300 with 1 Axes>"
      ]
     },
     "metadata": {},
     "output_type": "display_data"
    }
   ],
   "source": [
    "score_and_plot(best_knn, X, y, stratified_kfold)"
   ]
  },
  {
   "cell_type": "markdown",
   "id": "ee4788e3-327d-4075-a627-26d153d02ecf",
   "metadata": {},
   "source": [
    "## XGBoost"
   ]
  },
  {
   "cell_type": "code",
   "execution_count": 48,
   "id": "2e580bad-064e-4750-bc15-9f5b0b66688f",
   "metadata": {},
   "outputs": [
    {
     "name": "stdout",
     "output_type": "stream",
     "text": [
      "Fitting 5 folds for each of 18 candidates, totalling 90 fits\n"
     ]
    },
    {
     "data": {
      "text/plain": [
       "{'clf__max_depth': 5, 'clf__n_estimators': 200, 'clf__scale_pos_weight': 5}"
      ]
     },
     "execution_count": 48,
     "metadata": {},
     "output_type": "execute_result"
    }
   ],
   "source": [
    "xgb = XGBClassifier(random_state=random_state)\n",
    "\n",
    "param_grid = {\n",
    "    'clf__n_estimators': [100, 200, 500],\n",
    "    'clf__max_depth': [5, 6, 7],\n",
    "    'clf__scale_pos_weight': [5, 20]\n",
    "}\n",
    "\n",
    "pipe_xgb = Pipeline([\n",
    "        ('scale', MinMaxScaler()),\n",
    "        ('clf', xgb)])\n",
    "\n",
    "xgb_clf = GridSearchCV(pipe_xgb, cv=stratified_kfold,\n",
    "                        param_grid=param_grid, scoring=[\"accuracy\", \"precision\", \"recall\", \"f1\"],\n",
    "                      refit = \"accuracy\", return_train_score= True,\n",
    "                      n_jobs=-1, verbose = 2)\n",
    "\n",
    "best_xgb = xgb_clf.fit(X, y)\n",
    "best_xgb.best_params_"
   ]
  },
  {
   "cell_type": "markdown",
   "id": "60243c8a-1c94-42af-b934-e11a8b2ba886",
   "metadata": {},
   "source": [
    "### results"
   ]
  },
  {
   "cell_type": "code",
   "execution_count": 49,
   "id": "2ea34f4c-4bfd-49d9-bae3-853b288c408e",
   "metadata": {},
   "outputs": [
    {
     "name": "stdout",
     "output_type": "stream",
     "text": [
      "accuracy: 1.0\n",
      "precision +/-: 0.9960642783019247\n",
      "recall +/-: 0.9944051230198853\n",
      "f1-score +/-: 0.9952325602111851\n",
      "\n"
     ]
    },
    {
     "data": {
      "image/png": "[encoded data removed]",
      "text/plain": [
       "<Figure size 500x300 with 1 Axes>"
      ]
     },
     "metadata": {},
     "output_type": "display_data"
    }
   ],
   "source": [
    "score_and_plot(best_xgb, X, y, stratified_kfold)"
   ]
  },
  {
   "cell_type": "markdown",
   "id": "b17d834b-898f-48c0-97ef-1c297461d6fe",
   "metadata": {},
   "source": [
    "## ROC Curve"
   ]
  },
  {
   "cell_type": "markdown",
   "id": "a59dc8a2-6149-4b3b-aac4-f28bd3e4595b",
   "metadata": {},
   "source": [
    "Plotting ROC curve"
   ]
  },
  {
   "cell_type": "code",
   "execution_count": 67,
   "id": "88af80e4-02c5-4804-9756-ad2bb82adc24",
   "metadata": {},
   "outputs": [],
   "source": [
    "def plot_cross_val_ROC(model, X, y, cv, title):\n",
    "    predicted_probabilities = cross_val_predict(model, X, y, cv=cv, method='predict_proba')[:, 1]\n",
    "    fpr, tpr, _ = roc_curve(y, predicted_probabilities)\n",
    "    roc_auc = auc(fpr, tpr)\n",
    "    \n",
    "    plt.figure(figsize=(10, 10))\n",
    "    plt.plot(fpr, tpr, color='darkorange', lw=2, label='ROC curve (area = {:.2f})'.format(roc_auc))\n",
    "    plt.plot([0, 1], [0, 1], color='navy', lw=2, linestyle='--')\n",
    "    plt.xlim([0.0, 1.0])\n",
    "    plt.ylim([0.0, 1.05])\n",
    "    plt.xlabel('False Positive Rate')\n",
    "    plt.ylabel('True Positive Rate')\n",
    "    plt.title(title)\n",
    "    plt.legend(loc='lower right')\n",
    "    plt.show()"
   ]
  },
  {
   "cell_type": "code",
   "execution_count": 68,
   "id": "fb04fd0a-eb3b-4565-a5c9-3509606d0f62",
   "metadata": {},
   "outputs": [
    {
     "data": {
      "image/png": "[encoded data removed]",
      "text/plain": [
       "<Figure size 1000x1000 with 1 Axes>"
      ]
     },
     "metadata": {},
     "output_type": "display_data"
    }
   ],
   "source": [
    "plot_cross_val_ROC(best_xgb.best_estimator_, X, y, stratified_kfold, 'XGBoost ROC Curve')"
   ]
  },
  {
   "cell_type": "code",
   "execution_count": 69,
   "id": "803f2b9b-8e5f-463d-ae7c-a4a88c649ca2",
   "metadata": {},
   "outputs": [
    {
     "data": {
      "image/png": "[encoded data removed]",
      "text/plain": [
       "<Figure size 1000x1000 with 1 Axes>"
      ]
     },
     "metadata": {},
     "output_type": "display_data"
    }
   ],
   "source": [
    "plot_cross_val_ROC(best_knn.best_estimator_, X, y, stratified_kfold, 'KNN ROC Curve')"
   ]
  },
  {
   "cell_type": "code",
   "execution_count": 71,
   "id": "1fb1e198-2fc2-43a8-beac-a39d69e6753e",
   "metadata": {},
   "outputs": [],
   "source": [
    "#Didn't have time to plot this :(\n",
    "#plot_cross_val_ROC(best_svc.best_estimator_, X, y, stratified_kfold, 'SVC ROC Curve')"
   ]
  },
  {
   "cell_type": "markdown",
   "id": "2c909dd8-3c80-48ec-ac2f-5fe3deff555b",
   "metadata": {},
   "source": [
    "Not a lot of new information from ROC curve other than that models are working"
   ]
  },
  {
   "cell_type": "markdown",
   "id": "1e5c4294-4915-4d53-8287-9240e0e0a3a2",
   "metadata": {},
   "source": [
    "## Feature Importance"
   ]
  },
  {
   "cell_type": "code",
   "execution_count": 60,
   "id": "c01086fc-f39b-450e-a1b5-0d8c799ddb95",
   "metadata": {},
   "outputs": [],
   "source": [
    "def plot_feature_imp(classifier, classifier_name, color, ax):\n",
    "    '''Plot the importance of features for a classifier as a barplot.'''\n",
    "    importances = pd.DataFrame({'Feature': X.columns,\n",
    "                                'Importance': np.round(classifier.best_estimator_.named_steps['clf'].feature_importances_, 3)})\n",
    "    \n",
    "    importances = importances.sort_values('Importance', ascending=True).set_index('Feature')\n",
    "\n",
    "    importances.plot.barh(color=color,\n",
    "                          edgecolor='firebrick',\n",
    "                          legend=False,\n",
    "                          ax=ax)\n",
    "    ax.set_title(classifier_name)\n",
    "    ax.set_xlabel('Importance');"
   ]
  },
  {
   "cell_type": "code",
   "execution_count": 61,
   "id": "5949621e-7aea-4bff-a141-f97a592307fd",
   "metadata": {},
   "outputs": [
    {
     "name": "stderr",
     "output_type": "stream",
     "text": [
      "C:\\Users\\pawel\\AppData\\Local\\Temp\\ipykernel_22524\\2633817074.py:8: MatplotlibDeprecationWarning: Auto-removal of overlapping axes is deprecated since 3.6 and will be removed two minor releases later; explicitly call ax.remove() as needed.\n",
      "  ax = plt.subplot(2, 2, i + 1)\n"
     ]
    },
    {
     "data": {
      "image/png": "[encoded data removed]",
      "text/plain": [
       "<Figure size 1200x1000 with 1 Axes>"
      ]
     },
     "metadata": {},
     "output_type": "display_data"
    }
   ],
   "source": [
    "colors_fi = ['steelblue', 'darkgray', 'cadetblue', 'bisque']\n",
    "\n",
    "fig = plt.subplots(1, 1, figsize=(12, 10))\n",
    "\n",
    "for i, (name, clf) in enumerate(zip(['XGB'],\n",
    "                                    [best_xgb])):\n",
    "\n",
    "    ax = plt.subplot(2, 2, i + 1)\n",
    "    plot_feature_imp(clf, name, colors_fi[i], ax)\n",
    "    plt.ylabel('')\n",
    "\n",
    "plt.tight_layout();"
   ]
  },
  {
   "cell_type": "markdown",
   "id": "4a83fb7a-2bb5-49ab-a3bf-c77bfee3e6cf",
   "metadata": {},
   "source": [
    "For XGB model MOST important feature \"Domain\", rest is pretty negligible"
   ]
  },
  {
   "cell_type": "markdown",
   "id": "ddf3eb36-4232-42dc-9b70-a65c8b456361",
   "metadata": {},
   "source": [
    "# Test"
   ]
  },
  {
   "cell_type": "markdown",
   "id": "177217f3-8693-4253-b512-d27d615149b8",
   "metadata": {},
   "source": [
    "Here I am performing simple test from data earlier saved to see how well models will work.\n",
    "\n",
    "For production (unseen) true data the model should work like presented in this step.\n",
    "Note: New unseen data would have to be preprocessed the same way as I did for this dataset."
   ]
  },
  {
   "cell_type": "code",
   "execution_count": 72,
   "id": "c66e0280-7968-4dfc-9cb3-7c1215fb0e83",
   "metadata": {},
   "outputs": [],
   "source": [
    "def calculate_classification_parameters(y_true, y_pred):\n",
    "    accuracy = metrics.accuracy_score(y_true, y_pred)\n",
    "    precision = metrics.precision_score(y_true, y_pred, average='binary', zero_division=1)\n",
    "    recall = metrics.recall_score(y_true, y_pred, average='binary', zero_division=1)\n",
    "    f1 = metrics.f1_score(y_true, y_pred, average='binary', zero_division=1)\n",
    "    \n",
    "    results = {\n",
    "    'Accuracy': accuracy,\n",
    "    'Precision': precision,\n",
    "    'Recall': recall,\n",
    "    'F1 Score': f1,\n",
    "    }\n",
    "    return print(results)"
   ]
  },
  {
   "cell_type": "code",
   "execution_count": 73,
   "id": "1934f9b4-fcb3-494e-843a-a961460b8b51",
   "metadata": {},
   "outputs": [],
   "source": [
    "test = pd.concat([test_1, test_0])"
   ]
  },
  {
   "cell_type": "code",
   "execution_count": 74,
   "id": "28a5846b-9d8c-437e-bcc6-ac819cf7b03a",
   "metadata": {},
   "outputs": [],
   "source": [
    "#Shuffling test data\n",
    "test = test.sample(frac=1, random_state=random_state).reset_index(drop=True)"
   ]
  },
  {
   "cell_type": "code",
   "execution_count": 75,
   "id": "96c25f5f-b0a2-4ef2-955b-0179b0aa5bb8",
   "metadata": {},
   "outputs": [
    {
     "name": "stderr",
     "output_type": "stream",
     "text": [
      "C:\\Users\\pawel\\AppData\\Local\\Temp\\ipykernel_22524\\2119818756.py:2: FutureWarning: In a future version of pandas all arguments of DataFrame.drop except for the argument 'labels' will be keyword-only.\n",
      "  X_test = test.drop('pred', 1)\n"
     ]
    },
    {
     "data": {
      "text/plain": [
       "0     0\n",
       "1     0\n",
       "2     0\n",
       "3     1\n",
       "4     1\n",
       "     ..\n",
       "95    0\n",
       "96    0\n",
       "97    1\n",
       "98    0\n",
       "99    0\n",
       "Name: pred, Length: 100, dtype: int64"
      ]
     },
     "execution_count": 75,
     "metadata": {},
     "output_type": "execute_result"
    }
   ],
   "source": [
    "y_test = test['pred']\n",
    "X_test = test.drop('pred', 1)\n",
    "y_test"
   ]
  },
  {
   "cell_type": "markdown",
   "id": "0680e3f1-7a82-438c-9f32-8cf5117bf6bc",
   "metadata": {},
   "source": [
    "## SVC"
   ]
  },
  {
   "cell_type": "code",
   "execution_count": 76,
   "id": "6808cfec-9d02-447b-a7cd-931643e847ae",
   "metadata": {},
   "outputs": [
    {
     "name": "stdout",
     "output_type": "stream",
     "text": [
      "{'Accuracy': 0.95, 'Precision': 1.0, 'Recall': 0.9, 'F1 Score': 0.9473684210526316}\n"
     ]
    }
   ],
   "source": [
    "prediction_SVC = best_svc.predict(X_test)\n",
    "\n",
    "calculate_classification_parameters(y_test, prediction_SVC)"
   ]
  },
  {
   "cell_type": "markdown",
   "id": "26e1f48b-8e1a-4ed9-9f08-2396a425c21b",
   "metadata": {},
   "source": [
    "## KNN"
   ]
  },
  {
   "cell_type": "code",
   "execution_count": 78,
   "id": "306e987b-9889-4db5-aabc-1b552bc8c768",
   "metadata": {},
   "outputs": [
    {
     "name": "stdout",
     "output_type": "stream",
     "text": [
      "{'Accuracy': 0.89, 'Precision': 1.0, 'Recall': 0.78, 'F1 Score': 0.8764044943820225}\n"
     ]
    }
   ],
   "source": [
    "prediction_KNN = best_knn.predict(X_test)\n",
    "\n",
    "calculate_classification_parameters(y_test, prediction_KNN)"
   ]
  },
  {
   "cell_type": "markdown",
   "id": "7bfbe62f-c329-44c8-b852-07284c608041",
   "metadata": {},
   "source": [
    "XGB"
   ]
  },
  {
   "cell_type": "code",
   "execution_count": 79,
   "id": "dda918d1-6228-4329-8505-0c0fbf44a695",
   "metadata": {},
   "outputs": [
    {
     "name": "stdout",
     "output_type": "stream",
     "text": [
      "{'Accuracy': 1.0, 'Precision': 1.0, 'Recall': 1.0, 'F1 Score': 1.0}\n"
     ]
    }
   ],
   "source": [
    "prediction_XGB = best_xgb.predict(X_test)\n",
    "\n",
    "calculate_classification_parameters(y_test, prediction_XGB)"
   ]
  },
  {
   "cell_type": "markdown",
   "id": "882ca6dc-bfae-478b-aa0b-5ad59af2bf43",
   "metadata": {},
   "source": [
    "# Conclusions"
   ]
  },
  {
   "cell_type": "markdown",
   "id": "26fad675-9d0d-4283-a4e8-c01fae676373",
   "metadata": {},
   "source": [
    "Best results for XGBoost. For unseen (test) data it presents astonishing 100% accuracy."
   ]
  }
 ],
 "metadata": {
  "kernelspec": {
   "display_name": "master_kernel",
   "language": "python",
   "name": "master"
  },
  "language_info": {
   "codemirror_mode": {
    "name": "ipython",
    "version": 3
   },
   "file_extension": ".py",
   "mimetype": "text/x-python",
   "name": "python",
   "nbconvert_exporter": "python",
   "pygments_lexer": "ipython3",
   "version": "3.9.15"
  }
 },
 "nbformat": 4,
 "nbformat_minor": 5
}
